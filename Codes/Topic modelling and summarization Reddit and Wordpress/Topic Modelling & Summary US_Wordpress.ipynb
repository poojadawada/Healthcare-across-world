{
 "cells": [
  {
   "cell_type": "code",
   "execution_count": 1,
   "metadata": {
    "colab": {
     "base_uri": "https://localhost:8080/",
     "height": 122
    },
    "colab_type": "code",
    "executionInfo": {
     "elapsed": 19329,
     "status": "ok",
     "timestamp": 1575176187689,
     "user": {
      "displayName": "Mohini Agarwal",
      "photoUrl": "https://lh3.googleusercontent.com/a-/AAuE7mB6zKltsv1-M_Rn74g_JXu9dDBZlatLFMLrUXwm=s64",
      "userId": "12450402954614440292"
     },
     "user_tz": 360
    },
    "id": "gnB7ChiomhOY",
    "outputId": "f5c31ccb-7842-4991-b597-f8ecb125ef33"
   },
   "outputs": [
    {
     "name": "stdout",
     "output_type": "stream",
     "text": [
      "Go to this URL in a browser: https://accounts.google.com/o/oauth2/auth?client_id=947318989803-6bn6qk8qdgf4n4g3pfee6491hc0brc4i.apps.googleusercontent.com&redirect_uri=urn%3aietf%3awg%3aoauth%3a2.0%3aoob&response_type=code&scope=email%20https%3a%2f%2fwww.googleapis.com%2fauth%2fdocs.test%20https%3a%2f%2fwww.googleapis.com%2fauth%2fdrive%20https%3a%2f%2fwww.googleapis.com%2fauth%2fdrive.photos.readonly%20https%3a%2f%2fwww.googleapis.com%2fauth%2fpeopleapi.readonly\n",
      "\n",
      "Enter your authorization code:\n",
      "··········\n",
      "Mounted at /content/drive\n"
     ]
    }
   ],
   "source": [
    "from google.colab import drive\n",
    "drive.mount('/content/drive')"
   ]
  },
  {
   "cell_type": "code",
   "execution_count": 2,
   "metadata": {
    "colab": {
     "base_uri": "https://localhost:8080/",
     "height": 85
    },
    "colab_type": "code",
    "executionInfo": {
     "elapsed": 6089,
     "status": "ok",
     "timestamp": 1575176218418,
     "user": {
      "displayName": "Mohini Agarwal",
      "photoUrl": "https://lh3.googleusercontent.com/a-/AAuE7mB6zKltsv1-M_Rn74g_JXu9dDBZlatLFMLrUXwm=s64",
      "userId": "12450402954614440292"
     },
     "user_tz": 360
    },
    "id": "L69yzsWJmoyy",
    "outputId": "8b3a6675-da6d-42de-de45-6d42ea7e1a33"
   },
   "outputs": [
    {
     "name": "stdout",
     "output_type": "stream",
     "text": [
      "[nltk_data] Downloading package stopwords to /root/nltk_data...\n",
      "[nltk_data]   Unzipping corpora/stopwords.zip.\n",
      "[nltk_data] Downloading package punkt to /root/nltk_data...\n",
      "[nltk_data]   Unzipping tokenizers/punkt.zip.\n"
     ]
    }
   ],
   "source": [
    "import pandas as pd\n",
    "import numpy as np\n",
    "\n",
    "# Import the Data Frame\n",
    "import nltk\n",
    "nltk.download('stopwords')\n",
    "nltk.download('punkt')\n",
    "# nltk.download('all')\n",
    "\n",
    "from string import punctuation\n",
    "from nltk.corpus import stopwords\n",
    "from nltk.tokenize import word_tokenize\n",
    "stop_words = set( stopwords.words('english'))\n",
    "from spacy.lang.en import English\n",
    "\n",
    "import matplotlib.pyplot as plt\n",
    "%matplotlib inline\n",
    "import seaborn as sns\n",
    "\n",
    "import spacy"
   ]
  },
  {
   "cell_type": "code",
   "execution_count": 0,
   "metadata": {
    "colab": {},
    "colab_type": "code",
    "id": "i7HpULmxm1Uk"
   },
   "outputs": [],
   "source": [
    "# Function to remove stopwords and replacing model names with brand names\n",
    "# This function will be applied to all comments in our data frame\n",
    "\n",
    "def filterReview(review):\n",
    "    nlp = English()\n",
    "    tokens = word_tokenize(review)\n",
    "    word_str = \"\"\n",
    "\n",
    "    # Removing numbers\n",
    "    for w in tokens:\n",
    "        try:\n",
    "            float(w)\n",
    "        \n",
    "        # If not a number, we will consider the words\n",
    "        except Exception as e:\n",
    "            if w.lower() not in stop_words: \n",
    "                word_str = word_str + \" \" + w.lower()\n",
    "        continue\n",
    "    \n",
    "    # Lemmatization\n",
    "    lemmatized = []\n",
    "    doc = nlp(' '.join(word_str.split()))\n",
    "    for word in doc:\n",
    "        lemmatized.append(word.lemma_)\n",
    "    \n",
    "    return lemmatized\n",
    "\n",
    "# Backup fundtion to clean the data \n",
    "def removePunctuations(review):\n",
    "    nlp = English()\n",
    "    tokens = word_tokenize(review)\n",
    "    stop_words_punct = set(stopwords.words('english') + list(punctuation))\n",
    "    no_stopwords = [w.lower() for w in tokens if w.lower() not in stop_words_punct]\n",
    "    word_str = \"\"\n",
    "    for w in no_stopwords:\n",
    "        # Removing numbers\n",
    "        try:\n",
    "            float(w)\n",
    "        except Exception as e:\n",
    "            word_str = word_str + \" \" + w\n",
    "        continue\n",
    "    \n",
    "    # Lemmatization\n",
    "    lemmatized = []\n",
    "    doc = nlp(' '.join(word_str.split()))\n",
    "    for word in doc:\n",
    "        lemmatized.append(word.lemma_)\n",
    "    \n",
    "    return lemmatized"
   ]
  },
  {
   "cell_type": "code",
   "execution_count": 0,
   "metadata": {
    "colab": {},
    "colab_type": "code",
    "id": "kg8X42v-m4kE"
   },
   "outputs": [],
   "source": [
    "df_wpUS = pd.read_excel('/content/drive/My Drive/Text Project/Wordpress/usWP_compile_V1.xlsx')\n",
    "df_wpUS.columns = ['Title','Comments']\n",
    "\n",
    "# Combining title and comments\n",
    "df_wpUS['Comments'] = df_wpUS['Title'] + df_wpUS['Comments']"
   ]
  },
  {
   "cell_type": "code",
   "execution_count": 5,
   "metadata": {
    "colab": {
     "base_uri": "https://localhost:8080/",
     "height": 200
    },
    "colab_type": "code",
    "executionInfo": {
     "elapsed": 1172,
     "status": "ok",
     "timestamp": 1575176227709,
     "user": {
      "displayName": "Mohini Agarwal",
      "photoUrl": "https://lh3.googleusercontent.com/a-/AAuE7mB6zKltsv1-M_Rn74g_JXu9dDBZlatLFMLrUXwm=s64",
      "userId": "12450402954614440292"
     },
     "user_tz": 360
    },
    "id": "tFjgy3cUnuUl",
    "outputId": "bb122932-f840-4ea7-f194-eadfaa702d19"
   },
   "outputs": [
    {
     "data": {
      "text/html": [
       "<div>\n",
       "<style scoped>\n",
       "    .dataframe tbody tr th:only-of-type {\n",
       "        vertical-align: middle;\n",
       "    }\n",
       "\n",
       "    .dataframe tbody tr th {\n",
       "        vertical-align: top;\n",
       "    }\n",
       "\n",
       "    .dataframe thead th {\n",
       "        text-align: right;\n",
       "    }\n",
       "</style>\n",
       "<table border=\"1\" class=\"dataframe\">\n",
       "  <thead>\n",
       "    <tr style=\"text-align: right;\">\n",
       "      <th></th>\n",
       "      <th>Title</th>\n",
       "      <th>Comments</th>\n",
       "    </tr>\n",
       "  </thead>\n",
       "  <tbody>\n",
       "    <tr>\n",
       "      <th>0</th>\n",
       "      <td>A brief history of how the American healthcare...</td>\n",
       "      <td>A brief history of how the American healthcare...</td>\n",
       "    </tr>\n",
       "    <tr>\n",
       "      <th>1</th>\n",
       "      <td>The Disabled States of America: regional dispa...</td>\n",
       "      <td>The Disabled States of America: regional dispa...</td>\n",
       "    </tr>\n",
       "    <tr>\n",
       "      <th>2</th>\n",
       "      <td>Why American Presidents (and Some Oscar Winner...</td>\n",
       "      <td>Why American Presidents (and Some Oscar Winner...</td>\n",
       "    </tr>\n",
       "    <tr>\n",
       "      <th>3</th>\n",
       "      <td>NaN</td>\n",
       "      <td>NaN</td>\n",
       "    </tr>\n",
       "    <tr>\n",
       "      <th>4</th>\n",
       "      <td>The Eleven Most Implanted Medical Devices In A...</td>\n",
       "      <td>The Eleven Most Implanted Medical Devices In A...</td>\n",
       "    </tr>\n",
       "  </tbody>\n",
       "</table>\n",
       "</div>"
      ],
      "text/plain": [
       "                                               Title                                           Comments\n",
       "0  A brief history of how the American healthcare...  A brief history of how the American healthcare...\n",
       "1  The Disabled States of America: regional dispa...  The Disabled States of America: regional dispa...\n",
       "2  Why American Presidents (and Some Oscar Winner...  Why American Presidents (and Some Oscar Winner...\n",
       "3                                                NaN                                                NaN\n",
       "4  The Eleven Most Implanted Medical Devices In A...  The Eleven Most Implanted Medical Devices In A..."
      ]
     },
     "execution_count": 5,
     "metadata": {
      "tags": []
     },
     "output_type": "execute_result"
    }
   ],
   "source": [
    "df_wpUS.head()"
   ]
  },
  {
   "cell_type": "code",
   "execution_count": 6,
   "metadata": {
    "colab": {
     "base_uri": "https://localhost:8080/",
     "height": 200
    },
    "colab_type": "code",
    "executionInfo": {
     "elapsed": 799,
     "status": "ok",
     "timestamp": 1575176228903,
     "user": {
      "displayName": "Mohini Agarwal",
      "photoUrl": "https://lh3.googleusercontent.com/a-/AAuE7mB6zKltsv1-M_Rn74g_JXu9dDBZlatLFMLrUXwm=s64",
      "userId": "12450402954614440292"
     },
     "user_tz": 360
    },
    "id": "BNKvEH7KnAc6",
    "outputId": "70f7e150-0c12-4c97-d980-a12fd049ae01"
   },
   "outputs": [
    {
     "data": {
      "text/html": [
       "<div>\n",
       "<style scoped>\n",
       "    .dataframe tbody tr th:only-of-type {\n",
       "        vertical-align: middle;\n",
       "    }\n",
       "\n",
       "    .dataframe tbody tr th {\n",
       "        vertical-align: top;\n",
       "    }\n",
       "\n",
       "    .dataframe thead th {\n",
       "        text-align: right;\n",
       "    }\n",
       "</style>\n",
       "<table border=\"1\" class=\"dataframe\">\n",
       "  <thead>\n",
       "    <tr style=\"text-align: right;\">\n",
       "      <th></th>\n",
       "      <th>Title</th>\n",
       "      <th>Comments</th>\n",
       "    </tr>\n",
       "  </thead>\n",
       "  <tbody>\n",
       "    <tr>\n",
       "      <th>0</th>\n",
       "      <td>A brief history of how the American healthcare...</td>\n",
       "      <td>A brief history of how the American healthcare...</td>\n",
       "    </tr>\n",
       "    <tr>\n",
       "      <th>1</th>\n",
       "      <td>The Disabled States of America: regional dispa...</td>\n",
       "      <td>The Disabled States of America: regional dispa...</td>\n",
       "    </tr>\n",
       "    <tr>\n",
       "      <th>2</th>\n",
       "      <td>Why American Presidents (and Some Oscar Winner...</td>\n",
       "      <td>Why American Presidents (and Some Oscar Winner...</td>\n",
       "    </tr>\n",
       "    <tr>\n",
       "      <th>3</th>\n",
       "      <td>The Eleven Most Implanted Medical Devices In A...</td>\n",
       "      <td>The Eleven Most Implanted Medical Devices In A...</td>\n",
       "    </tr>\n",
       "    <tr>\n",
       "      <th>4</th>\n",
       "      <td>In Their Words – Stories of Chinese Immigrants...</td>\n",
       "      <td>In Their Words – Stories of Chinese Immigrants...</td>\n",
       "    </tr>\n",
       "  </tbody>\n",
       "</table>\n",
       "</div>"
      ],
      "text/plain": [
       "                                               Title                                           Comments\n",
       "0  A brief history of how the American healthcare...  A brief history of how the American healthcare...\n",
       "1  The Disabled States of America: regional dispa...  The Disabled States of America: regional dispa...\n",
       "2  Why American Presidents (and Some Oscar Winner...  Why American Presidents (and Some Oscar Winner...\n",
       "3  The Eleven Most Implanted Medical Devices In A...  The Eleven Most Implanted Medical Devices In A...\n",
       "4  In Their Words – Stories of Chinese Immigrants...  In Their Words – Stories of Chinese Immigrants..."
      ]
     },
     "execution_count": 6,
     "metadata": {
      "tags": []
     },
     "output_type": "execute_result"
    }
   ],
   "source": [
    "df_wpUS = df_wpUS.dropna(axis=0, subset=['Comments']).reset_index(drop=True)\n",
    "df_wpUS.head()"
   ]
  },
  {
   "cell_type": "code",
   "execution_count": 0,
   "metadata": {
    "colab": {},
    "colab_type": "code",
    "id": "IhJ-Rp1zn2Ph"
   },
   "outputs": [],
   "source": [
    "# Filtering comments and converting to a list of words\n",
    "df_wpUS['Filtered comments'] = df_wpUS['Comments'].map(removePunctuations)"
   ]
  },
  {
   "cell_type": "code",
   "execution_count": 8,
   "metadata": {
    "colab": {
     "base_uri": "https://localhost:8080/",
     "height": 200
    },
    "colab_type": "code",
    "executionInfo": {
     "elapsed": 3189,
     "status": "ok",
     "timestamp": 1575176233216,
     "user": {
      "displayName": "Mohini Agarwal",
      "photoUrl": "https://lh3.googleusercontent.com/a-/AAuE7mB6zKltsv1-M_Rn74g_JXu9dDBZlatLFMLrUXwm=s64",
      "userId": "12450402954614440292"
     },
     "user_tz": 360
    },
    "id": "M8yukiCcnEIJ",
    "outputId": "69bcb168-f09c-4319-bc71-d67bff26c379"
   },
   "outputs": [
    {
     "data": {
      "text/html": [
       "<div>\n",
       "<style scoped>\n",
       "    .dataframe tbody tr th:only-of-type {\n",
       "        vertical-align: middle;\n",
       "    }\n",
       "\n",
       "    .dataframe tbody tr th {\n",
       "        vertical-align: top;\n",
       "    }\n",
       "\n",
       "    .dataframe thead th {\n",
       "        text-align: right;\n",
       "    }\n",
       "</style>\n",
       "<table border=\"1\" class=\"dataframe\">\n",
       "  <thead>\n",
       "    <tr style=\"text-align: right;\">\n",
       "      <th></th>\n",
       "      <th>Title</th>\n",
       "      <th>Comments</th>\n",
       "      <th>Filtered comments</th>\n",
       "    </tr>\n",
       "  </thead>\n",
       "  <tbody>\n",
       "    <tr>\n",
       "      <th>0</th>\n",
       "      <td>A brief history of how the American healthcare...</td>\n",
       "      <td>A brief history of how the American healthcare...</td>\n",
       "      <td>[brief, history, american, healthcare, system,...</td>\n",
       "    </tr>\n",
       "    <tr>\n",
       "      <th>1</th>\n",
       "      <td>The Disabled States of America: regional dispa...</td>\n",
       "      <td>The Disabled States of America: regional dispa...</td>\n",
       "      <td>[disable, state, america, regional, disparity,...</td>\n",
       "    </tr>\n",
       "    <tr>\n",
       "      <th>2</th>\n",
       "      <td>Why American Presidents (and Some Oscar Winner...</td>\n",
       "      <td>Why American Presidents (and Some Oscar Winner...</td>\n",
       "      <td>[american, president, oscar, winner, live, lon...</td>\n",
       "    </tr>\n",
       "    <tr>\n",
       "      <th>3</th>\n",
       "      <td>The Eleven Most Implanted Medical Devices In A...</td>\n",
       "      <td>The Eleven Most Implanted Medical Devices In A...</td>\n",
       "      <td>[eleven, implant, medical, device, america5, m...</td>\n",
       "    </tr>\n",
       "    <tr>\n",
       "      <th>4</th>\n",
       "      <td>In Their Words – Stories of Chinese Immigrants...</td>\n",
       "      <td>In Their Words – Stories of Chinese Immigrants...</td>\n",
       "      <td>[word, –, story, chinese, immigrant, americaim...</td>\n",
       "    </tr>\n",
       "  </tbody>\n",
       "</table>\n",
       "</div>"
      ],
      "text/plain": [
       "                                               Title  ...                                  Filtered comments\n",
       "0  A brief history of how the American healthcare...  ...  [brief, history, american, healthcare, system,...\n",
       "1  The Disabled States of America: regional dispa...  ...  [disable, state, america, regional, disparity,...\n",
       "2  Why American Presidents (and Some Oscar Winner...  ...  [american, president, oscar, winner, live, lon...\n",
       "3  The Eleven Most Implanted Medical Devices In A...  ...  [eleven, implant, medical, device, america5, m...\n",
       "4  In Their Words – Stories of Chinese Immigrants...  ...  [word, –, story, chinese, immigrant, americaim...\n",
       "\n",
       "[5 rows x 3 columns]"
      ]
     },
     "execution_count": 8,
     "metadata": {
      "tags": []
     },
     "output_type": "execute_result"
    }
   ],
   "source": [
    "df_wpUS.head()"
   ]
  },
  {
   "cell_type": "code",
   "execution_count": 9,
   "metadata": {
    "colab": {
     "base_uri": "https://localhost:8080/",
     "height": 358
    },
    "colab_type": "code",
    "executionInfo": {
     "elapsed": 2638,
     "status": "ok",
     "timestamp": 1575176233442,
     "user": {
      "displayName": "Mohini Agarwal",
      "photoUrl": "https://lh3.googleusercontent.com/a-/AAuE7mB6zKltsv1-M_Rn74g_JXu9dDBZlatLFMLrUXwm=s64",
      "userId": "12450402954614440292"
     },
     "user_tz": 360
    },
    "id": "JUq0ZSBgofcU",
    "outputId": "51d995f7-e362-4c21-bcb7-baba054f1706"
   },
   "outputs": [
    {
     "data": {
      "text/plain": [
       "[('-', 418),\n",
       " ('’', 354),\n",
       " ('health', 321),\n",
       " ('healthcare', 296),\n",
       " ('care', 233),\n",
       " ('“', 162),\n",
       " ('”', 160),\n",
       " ('.', 156),\n",
       " ('medical', 125),\n",
       " ('/', 122),\n",
       " ('system', 114),\n",
       " ('people', 113),\n",
       " ('year', 109),\n",
       " ('–', 105),\n",
       " ('would', 100),\n",
       " ('cost', 98),\n",
       " ('make', 94),\n",
       " ('one', 90),\n",
       " ('insurance', 86),\n",
       " ('patient', 84)]"
      ]
     },
     "execution_count": 9,
     "metadata": {
      "tags": []
     },
     "output_type": "execute_result"
    }
   ],
   "source": [
    "# Word Count\n",
    "from collections import Counter\n",
    "s = df_wpUS['Filtered comments']\n",
    "text = s.apply(pd.Series).stack().reset_index(drop=True)\n",
    "word_counts = Counter(text)\n",
    "common_words = word_counts.most_common()\n",
    "common_words[:20]"
   ]
  },
  {
   "cell_type": "code",
   "execution_count": 23,
   "metadata": {
    "colab": {
     "base_uri": "https://localhost:8080/",
     "height": 34
    },
    "colab_type": "code",
    "executionInfo": {
     "elapsed": 630,
     "status": "ok",
     "timestamp": 1575176583031,
     "user": {
      "displayName": "Mohini Agarwal",
      "photoUrl": "https://lh3.googleusercontent.com/a-/AAuE7mB6zKltsv1-M_Rn74g_JXu9dDBZlatLFMLrUXwm=s64",
      "userId": "12450402954614440292"
     },
     "user_tz": 360
    },
    "id": "ccDSbhQw1tM5",
    "outputId": "64c056e1-a07b-4129-ca22-4c2ebd23082d"
   },
   "outputs": [
    {
     "data": {
      "text/plain": [
       "'/content'"
      ]
     },
     "execution_count": 23,
     "metadata": {
      "tags": []
     },
     "output_type": "execute_result"
    }
   ],
   "source": [
    "import os\n",
    "os.getcwd()"
   ]
  },
  {
   "cell_type": "code",
   "execution_count": 0,
   "metadata": {
    "colab": {},
    "colab_type": "code",
    "id": "IRGXYT0povB_"
   },
   "outputs": [],
   "source": [
    "additional_stop = ['-', '’', '“', '”', '.', '/', '–',  '—', '`', '…', \"''\", '‘', 'e.g.','https', 'http']\n",
    "def remove_Stop1(word_list):\n",
    "    return [word for word in word_list if word not in additional_stop]"
   ]
  },
  {
   "cell_type": "code",
   "execution_count": 0,
   "metadata": {
    "colab": {},
    "colab_type": "code",
    "id": "SlzJXK3Dpr0z"
   },
   "outputs": [],
   "source": [
    "df_wpUS['Filtered comments V1'] = df_wpUS['Filtered comments'].map(remove_Stop1)"
   ]
  },
  {
   "cell_type": "code",
   "execution_count": 26,
   "metadata": {
    "colab": {
     "base_uri": "https://localhost:8080/",
     "height": 286
    },
    "colab_type": "code",
    "executionInfo": {
     "elapsed": 527,
     "status": "ok",
     "timestamp": 1575176787683,
     "user": {
      "displayName": "Mohini Agarwal",
      "photoUrl": "https://lh3.googleusercontent.com/a-/AAuE7mB6zKltsv1-M_Rn74g_JXu9dDBZlatLFMLrUXwm=s64",
      "userId": "12450402954614440292"
     },
     "user_tz": 360
    },
    "id": "30jiHnBxqFTj",
    "outputId": "d41e9607-96cc-4ee5-b1c2-9a23be361a62"
   },
   "outputs": [
    {
     "data": {
      "text/html": [
       "<div>\n",
       "<style scoped>\n",
       "    .dataframe tbody tr th:only-of-type {\n",
       "        vertical-align: middle;\n",
       "    }\n",
       "\n",
       "    .dataframe tbody tr th {\n",
       "        vertical-align: top;\n",
       "    }\n",
       "\n",
       "    .dataframe thead th {\n",
       "        text-align: right;\n",
       "    }\n",
       "</style>\n",
       "<table border=\"1\" class=\"dataframe\">\n",
       "  <thead>\n",
       "    <tr style=\"text-align: right;\">\n",
       "      <th></th>\n",
       "      <th>Title</th>\n",
       "      <th>Comments</th>\n",
       "      <th>Filtered comments</th>\n",
       "      <th>Filtered comments V1</th>\n",
       "    </tr>\n",
       "  </thead>\n",
       "  <tbody>\n",
       "    <tr>\n",
       "      <th>0</th>\n",
       "      <td>A brief history of how the American healthcare...</td>\n",
       "      <td>A brief history of how the American healthcare...</td>\n",
       "      <td>[brief, history, american, healthcare, system,...</td>\n",
       "      <td>[brief, history, american, healthcare, system,...</td>\n",
       "    </tr>\n",
       "    <tr>\n",
       "      <th>1</th>\n",
       "      <td>The Disabled States of America: regional dispa...</td>\n",
       "      <td>The Disabled States of America: regional dispa...</td>\n",
       "      <td>[disable, state, america, regional, disparity,...</td>\n",
       "      <td>[disable, state, america, regional, disparity,...</td>\n",
       "    </tr>\n",
       "    <tr>\n",
       "      <th>2</th>\n",
       "      <td>Why American Presidents (and Some Oscar Winner...</td>\n",
       "      <td>Why American Presidents (and Some Oscar Winner...</td>\n",
       "      <td>[american, president, oscar, winner, live, lon...</td>\n",
       "      <td>[american, president, oscar, winner, live, lon...</td>\n",
       "    </tr>\n",
       "    <tr>\n",
       "      <th>3</th>\n",
       "      <td>The Eleven Most Implanted Medical Devices In A...</td>\n",
       "      <td>The Eleven Most Implanted Medical Devices In A...</td>\n",
       "      <td>[eleven, implant, medical, device, america5, m...</td>\n",
       "      <td>[eleven, implant, medical, device, america5, m...</td>\n",
       "    </tr>\n",
       "    <tr>\n",
       "      <th>4</th>\n",
       "      <td>In Their Words – Stories of Chinese Immigrants...</td>\n",
       "      <td>In Their Words – Stories of Chinese Immigrants...</td>\n",
       "      <td>[word, –, story, chinese, immigrant, americaim...</td>\n",
       "      <td>[word, story, chinese, immigrant, americaimmig...</td>\n",
       "    </tr>\n",
       "  </tbody>\n",
       "</table>\n",
       "</div>"
      ],
      "text/plain": [
       "                                               Title  ...                               Filtered comments V1\n",
       "0  A brief history of how the American healthcare...  ...  [brief, history, american, healthcare, system,...\n",
       "1  The Disabled States of America: regional dispa...  ...  [disable, state, america, regional, disparity,...\n",
       "2  Why American Presidents (and Some Oscar Winner...  ...  [american, president, oscar, winner, live, lon...\n",
       "3  The Eleven Most Implanted Medical Devices In A...  ...  [eleven, implant, medical, device, america5, m...\n",
       "4  In Their Words – Stories of Chinese Immigrants...  ...  [word, story, chinese, immigrant, americaimmig...\n",
       "\n",
       "[5 rows x 4 columns]"
      ]
     },
     "execution_count": 26,
     "metadata": {
      "tags": []
     },
     "output_type": "execute_result"
    }
   ],
   "source": [
    "df_wpUS.head()"
   ]
  },
  {
   "cell_type": "code",
   "execution_count": 27,
   "metadata": {
    "colab": {
     "base_uri": "https://localhost:8080/",
     "height": 358
    },
    "colab_type": "code",
    "executionInfo": {
     "elapsed": 700,
     "status": "ok",
     "timestamp": 1575176788313,
     "user": {
      "displayName": "Mohini Agarwal",
      "photoUrl": "https://lh3.googleusercontent.com/a-/AAuE7mB6zKltsv1-M_Rn74g_JXu9dDBZlatLFMLrUXwm=s64",
      "userId": "12450402954614440292"
     },
     "user_tz": 360
    },
    "id": "0pAUiyi7qy32",
    "outputId": "c74d44b4-c3f8-443c-ee17-afcd2dcc1a11"
   },
   "outputs": [
    {
     "data": {
      "text/plain": [
       "[('health', 321),\n",
       " ('healthcare', 296),\n",
       " ('care', 233),\n",
       " ('medical', 125),\n",
       " ('system', 114),\n",
       " ('people', 113),\n",
       " ('year', 109),\n",
       " ('would', 100),\n",
       " ('cost', 98),\n",
       " ('make', 94),\n",
       " ('one', 90),\n",
       " ('insurance', 86),\n",
       " ('patient', 84),\n",
       " ('u.s', 81),\n",
       " ('service', 79),\n",
       " ('also', 78),\n",
       " ('time', 77),\n",
       " ('american', 76),\n",
       " ('drug', 76),\n",
       " ('state', 75)]"
      ]
     },
     "execution_count": 27,
     "metadata": {
      "tags": []
     },
     "output_type": "execute_result"
    }
   ],
   "source": [
    "# Word Count\n",
    "s = df_wpUS['Filtered comments V1']\n",
    "text = s.apply(pd.Series).stack().reset_index(drop=True)\n",
    "word_counts = Counter(text)\n",
    "common_words = word_counts.most_common()\n",
    "common_words[:20]"
   ]
  },
  {
   "cell_type": "code",
   "execution_count": 0,
   "metadata": {
    "colab": {},
    "colab_type": "code",
    "id": "BZ1fhcYE2jAL"
   },
   "outputs": [],
   "source": [
    "comm_words_wpUS = pd.DataFrame(common_words)\n",
    "comm_words_wpUS.to_csv('/content/drive/My Drive/Text Project/comm_words_wpUS.csv')"
   ]
  },
  {
   "cell_type": "markdown",
   "metadata": {
    "colab_type": "text",
    "id": "WYIdfquUrO4_"
   },
   "source": [
    "## Topic Modelling"
   ]
  },
  {
   "cell_type": "code",
   "execution_count": 0,
   "metadata": {
    "colab": {},
    "colab_type": "code",
    "id": "UoT7af-oq4eF"
   },
   "outputs": [],
   "source": [
    "import gensim\n",
    "from gensim.utils import simple_preprocess\n",
    "from gensim.test.utils import common_corpus, common_dictionary"
   ]
  },
  {
   "cell_type": "code",
   "execution_count": 0,
   "metadata": {
    "colab": {},
    "colab_type": "code",
    "id": "KrLKUgsdu9cd"
   },
   "outputs": [],
   "source": [
    "dictionary_US = gensim.corpora.Dictionary(df_wpUS['Filtered comments V1'])\n",
    "dictionary_US.filter_extremes(no_below=1, no_above=0.5)\n",
    "bow_corpus = [dictionary_US.doc2bow(words) for words in df_wpUS['Filtered comments V1']]"
   ]
  },
  {
   "cell_type": "code",
   "execution_count": 31,
   "metadata": {
    "colab": {
     "base_uri": "https://localhost:8080/",
     "height": 208
    },
    "colab_type": "code",
    "executionInfo": {
     "elapsed": 9139,
     "status": "ok",
     "timestamp": 1575179846204,
     "user": {
      "displayName": "Mohini Agarwal",
      "photoUrl": "https://lh3.googleusercontent.com/a-/AAuE7mB6zKltsv1-M_Rn74g_JXu9dDBZlatLFMLrUXwm=s64",
      "userId": "12450402954614440292"
     },
     "user_tz": 360
    },
    "id": "5wznEZMdv5ap",
    "outputId": "0639302f-aff0-4e5c-e5b2-3cd785155c5d"
   },
   "outputs": [
    {
     "data": {
      "text/plain": [
       "[(0,\n",
       "  '0.007*\"drug\" + 0.005*\"social\" + 0.005*\"death\" + 0.005*\"factor\" + 0.004*\"u.s\" + 0.004*\"president\" + 0.004*\"use\" + 0.004*\"prescription\" + 0.004*\"insurance\" + 0.004*\"program\"'),\n",
       " (1,\n",
       "  '0.010*\"waste\" + 0.009*\"medication\" + 0.006*\"bill\" + 0.005*\"fraud\" + 0.005*\"cancer\" + 0.005*\"spend\" + 0.005*\"billion\" + 0.005*\"price\" + 0.005*\"cost\" + 0.005*\"program\"'),\n",
       " (2,\n",
       "  '0.010*\"infologix\" + 0.007*\"solution\" + 0.006*\"pioneer\" + 0.006*\"freedom\" + 0.005*\"technology\" + 0.005*\"business\" + 0.004*\"include\" + 0.004*\"private\" + 0.004*\"hle\" + 0.004*\"hospital\"'),\n",
       " (3,\n",
       "  '0.006*\"insurance\" + 0.005*\"pay\" + 0.005*\"cost\" + 0.005*\"medicine\" + 0.005*\"get\" + 0.005*\"medieval\" + 0.004*\"physician\" + 0.004*\"doctor\" + 0.004*\"increase\" + 0.004*\"price\"'),\n",
       " (4,\n",
       "  '0.009*\"u.s\" + 0.008*\"cost\" + 0.006*\"high\" + 0.006*\"spend\" + 0.005*\"pay\" + 0.005*\"per\" + 0.005*\"country\" + 0.004*\"compare\" + 0.004*\"doctor\" + 0.004*\"procedure\"')]"
      ]
     },
     "execution_count": 31,
     "metadata": {
      "tags": []
     },
     "output_type": "execute_result"
    }
   ],
   "source": [
    "# 5 topics\n",
    "lda_model_US = gensim.models.LdaMulticore(bow_corpus, num_topics=5, id2word=dictionary_US, passes=50, workers=2, chunksize=100, random_state=1000)\n",
    "lda_model_US.print_topics()"
   ]
  },
  {
   "cell_type": "code",
   "execution_count": 32,
   "metadata": {
    "colab": {
     "base_uri": "https://localhost:8080/",
     "height": 139
    },
    "colab_type": "code",
    "executionInfo": {
     "elapsed": 9267,
     "status": "ok",
     "timestamp": 1575179856952,
     "user": {
      "displayName": "Mohini Agarwal",
      "photoUrl": "https://lh3.googleusercontent.com/a-/AAuE7mB6zKltsv1-M_Rn74g_JXu9dDBZlatLFMLrUXwm=s64",
      "userId": "12450402954614440292"
     },
     "user_tz": 360
    },
    "id": "KtImh181wSMK",
    "outputId": "866859b7-4a52-43a8-e5be-20ebd2736c1c"
   },
   "outputs": [
    {
     "data": {
      "text/plain": [
       "[(0,\n",
       "  '0.007*\"u.s\" + 0.005*\"cost\" + 0.005*\"drug\" + 0.005*\"insurance\" + 0.005*\"high\" + 0.004*\"disease\" + 0.004*\"death\" + 0.004*\"program\" + 0.004*\"social\" + 0.004*\"factor\"'),\n",
       " (1,\n",
       "  '0.006*\"bill\" + 0.005*\"pay\" + 0.005*\"insurance\" + 0.005*\"plan\" + 0.005*\"get\" + 0.004*\"clinton\" + 0.004*\"cost\" + 0.004*\"waste\" + 0.003*\"can\" + 0.003*\"medicine\"'),\n",
       " (2,\n",
       "  '0.008*\"infologix\" + 0.005*\"solution\" + 0.005*\"pioneer\" + 0.004*\"freedom\" + 0.004*\"technology\" + 0.004*\"procedure\" + 0.004*\"include\" + 0.004*\"business\" + 0.003*\"hospital\" + 0.003*\"private\"')]"
      ]
     },
     "execution_count": 32,
     "metadata": {
      "tags": []
     },
     "output_type": "execute_result"
    }
   ],
   "source": [
    "# 3 topics\n",
    "lda_model_US = gensim.models.LdaMulticore(bow_corpus, num_topics=3, id2word=dictionary_US, passes=50, workers=2, chunksize=100, random_state=1000)\n",
    "lda_model_US.print_topics()"
   ]
  },
  {
   "cell_type": "code",
   "execution_count": 33,
   "metadata": {
    "colab": {
     "base_uri": "https://localhost:8080/",
     "height": 105
    },
    "colab_type": "code",
    "executionInfo": {
     "elapsed": 17004,
     "status": "ok",
     "timestamp": 1575179866381,
     "user": {
      "displayName": "Mohini Agarwal",
      "photoUrl": "https://lh3.googleusercontent.com/a-/AAuE7mB6zKltsv1-M_Rn74g_JXu9dDBZlatLFMLrUXwm=s64",
      "userId": "12450402954614440292"
     },
     "user_tz": 360
    },
    "id": "ZAQ8dv1uwuOs",
    "outputId": "74cca64d-6b8f-43de-f2bd-4e15982fc9a9"
   },
   "outputs": [
    {
     "data": {
      "text/plain": [
       "[(0,\n",
       "  '0.006*\"u.s\" + 0.005*\"drug\" + 0.005*\"cost\" + 0.005*\"high\" + 0.004*\"disease\" + 0.004*\"death\" + 0.003*\"program\" + 0.003*\"insurance\" + 0.003*\"country\" + 0.003*\"spend\"'),\n",
       " (1,\n",
       "  '0.005*\"insurance\" + 0.004*\"hospital\" + 0.004*\"cost\" + 0.004*\"infologix\" + 0.004*\"pay\" + 0.003*\"use\" + 0.003*\"include\" + 0.003*\"solution\" + 0.003*\"technology\" + 0.003*\"medicine\"')]"
      ]
     },
     "execution_count": 33,
     "metadata": {
      "tags": []
     },
     "output_type": "execute_result"
    }
   ],
   "source": [
    "# 2 topics\n",
    "lda_model_US = gensim.models.LdaMulticore(bow_corpus, num_topics=2, id2word=dictionary_US, passes=50, workers=2, chunksize=100, random_state=1000)\n",
    "lda_model_US.print_topics()"
   ]
  },
  {
   "cell_type": "code",
   "execution_count": 34,
   "metadata": {
    "colab": {
     "base_uri": "https://localhost:8080/",
     "height": 173
    },
    "colab_type": "code",
    "executionInfo": {
     "elapsed": 5060,
     "status": "ok",
     "timestamp": 1575179970010,
     "user": {
      "displayName": "Mohini Agarwal",
      "photoUrl": "https://lh3.googleusercontent.com/a-/AAuE7mB6zKltsv1-M_Rn74g_JXu9dDBZlatLFMLrUXwm=s64",
      "userId": "12450402954614440292"
     },
     "user_tz": 360
    },
    "id": "wszcZ0u5w7bR",
    "outputId": "f2ee664e-d1d6-4c82-aecd-4c0a2b101816"
   },
   "outputs": [
    {
     "data": {
      "text/plain": [
       "[(0,\n",
       "  '0.006*\"drug\" + 0.004*\"social\" + 0.004*\"u.s\" + 0.004*\"death\" + 0.004*\"program\" + 0.004*\"factor\" + 0.004*\"study\" + 0.003*\"president\" + 0.003*\"community\" + 0.003*\"use\"'),\n",
       " (1,\n",
       "  '0.006*\"film\" + 0.006*\"insurance\" + 0.005*\"pay\" + 0.004*\"cost\" + 0.004*\"photo\" + 0.004*\"bill\" + 0.004*\"live\" + 0.004*\"pexels.com\" + 0.003*\"quality\" + 0.003*\"medium\"'),\n",
       " (2,\n",
       "  '0.007*\"infologix\" + 0.005*\"solution\" + 0.005*\"technology\" + 0.005*\"pioneer\" + 0.005*\"medication\" + 0.004*\"waste\" + 0.004*\"billion\" + 0.004*\"freedom\" + 0.004*\"cost\" + 0.004*\"company\"'),\n",
       " (3,\n",
       "  '0.007*\"cost\" + 0.007*\"u.s\" + 0.007*\"pay\" + 0.006*\"high\" + 0.006*\"insurance\" + 0.005*\"spend\" + 0.005*\"doctor\" + 0.004*\"hospital\" + 0.004*\"physician\" + 0.004*\"medicine\"')]"
      ]
     },
     "execution_count": 34,
     "metadata": {
      "tags": []
     },
     "output_type": "execute_result"
    }
   ],
   "source": [
    "# 4 topics with paramater tuning\n",
    "lda_model_US = gensim.models.LdaMulticore(bow_corpus, num_topics=4, id2word=dictionary_US, passes=25, workers=2, chunksize=64, random_state=1000)\n",
    "lda_model_US.print_topics()"
   ]
  },
  {
   "cell_type": "code",
   "execution_count": 35,
   "metadata": {
    "colab": {
     "base_uri": "https://localhost:8080/",
     "height": 139
    },
    "colab_type": "code",
    "executionInfo": {
     "elapsed": 4831,
     "status": "ok",
     "timestamp": 1575179989719,
     "user": {
      "displayName": "Mohini Agarwal",
      "photoUrl": "https://lh3.googleusercontent.com/a-/AAuE7mB6zKltsv1-M_Rn74g_JXu9dDBZlatLFMLrUXwm=s64",
      "userId": "12450402954614440292"
     },
     "user_tz": 360
    },
    "id": "NQLXprs0xJ_P",
    "outputId": "cc386c3d-a7cf-4420-b82f-392c009a219c"
   },
   "outputs": [
    {
     "data": {
      "text/plain": [
       "[(0,\n",
       "  '0.007*\"u.s\" + 0.005*\"cost\" + 0.005*\"drug\" + 0.005*\"insurance\" + 0.005*\"high\" + 0.004*\"disease\" + 0.004*\"program\" + 0.004*\"death\" + 0.004*\"social\" + 0.004*\"factor\"'),\n",
       " (1,\n",
       "  '0.006*\"bill\" + 0.005*\"pay\" + 0.005*\"insurance\" + 0.005*\"plan\" + 0.004*\"get\" + 0.004*\"clinton\" + 0.004*\"waste\" + 0.004*\"cost\" + 0.004*\"can\" + 0.003*\"medicine\"'),\n",
       " (2,\n",
       "  '0.007*\"infologix\" + 0.005*\"solution\" + 0.005*\"pioneer\" + 0.004*\"freedom\" + 0.004*\"technology\" + 0.004*\"procedure\" + 0.004*\"include\" + 0.004*\"business\" + 0.003*\"cost\" + 0.003*\"hospital\"')]"
      ]
     },
     "execution_count": 35,
     "metadata": {
      "tags": []
     },
     "output_type": "execute_result"
    }
   ],
   "source": [
    "lda_model_US = gensim.models.LdaMulticore(bow_corpus, num_topics=3, id2word=dictionary_US, passes=25, workers=2, chunksize=64, random_state=1000)\n",
    "lda_model_US.print_topics()"
   ]
  },
  {
   "cell_type": "code",
   "execution_count": 0,
   "metadata": {
    "colab": {},
    "colab_type": "code",
    "id": "3Mt44Uz7yAVm"
   },
   "outputs": [],
   "source": [
    "df_wpUS.to_csv('/content/drive/My Drive/Text Project/Wordpress/Filtered_US_wordpress.csv')"
   ]
  },
  {
   "cell_type": "code",
   "execution_count": 0,
   "metadata": {
    "colab": {},
    "colab_type": "code",
    "id": "DfUAnkWUzzZO"
   },
   "outputs": [],
   "source": [
    "from nltk.tokenize import sent_tokenize\n",
    "sentences = []\n",
    "for s in df_wpUS['Comments']:\n",
    "  sentences.append(sent_tokenize(s))\n",
    "sentences = [y for x in sentences for y in x] # flatten list"
   ]
  },
  {
   "cell_type": "code",
   "execution_count": 38,
   "metadata": {
    "colab": {
     "base_uri": "https://localhost:8080/",
     "height": 444
    },
    "colab_type": "code",
    "executionInfo": {
     "elapsed": 416259,
     "status": "ok",
     "timestamp": 1575180595682,
     "user": {
      "displayName": "Mohini Agarwal",
      "photoUrl": "https://lh3.googleusercontent.com/a-/AAuE7mB6zKltsv1-M_Rn74g_JXu9dDBZlatLFMLrUXwm=s64",
      "userId": "12450402954614440292"
     },
     "user_tz": 360
    },
    "id": "BLtvbutIDgcS",
    "outputId": "4fb0796c-b0e8-4fdd-82fd-aacf2a302567"
   },
   "outputs": [
    {
     "name": "stdout",
     "output_type": "stream",
     "text": [
      "--2019-12-01 06:02:59--  http://nlp.stanford.edu/data/glove.6B.zip\n",
      "Resolving nlp.stanford.edu (nlp.stanford.edu)... 171.64.67.140\n",
      "Connecting to nlp.stanford.edu (nlp.stanford.edu)|171.64.67.140|:80... connected.\n",
      "HTTP request sent, awaiting response... 302 Found\n",
      "Location: https://nlp.stanford.edu/data/glove.6B.zip [following]\n",
      "--2019-12-01 06:03:00--  https://nlp.stanford.edu/data/glove.6B.zip\n",
      "Connecting to nlp.stanford.edu (nlp.stanford.edu)|171.64.67.140|:443... connected.\n",
      "HTTP request sent, awaiting response... 301 Moved Permanently\n",
      "Location: http://downloads.cs.stanford.edu/nlp/data/glove.6B.zip [following]\n",
      "--2019-12-01 06:03:00--  http://downloads.cs.stanford.edu/nlp/data/glove.6B.zip\n",
      "Resolving downloads.cs.stanford.edu (downloads.cs.stanford.edu)... 171.64.64.22\n",
      "Connecting to downloads.cs.stanford.edu (downloads.cs.stanford.edu)|171.64.64.22|:80... connected.\n",
      "HTTP request sent, awaiting response... 200 OK\n",
      "Length: 862182613 (822M) [application/zip]\n",
      "Saving to: ‘glove.6B.zip’\n",
      "\n",
      "glove.6B.zip        100%[===================>] 822.24M  2.08MB/s    in 6m 29s  \n",
      "\n",
      "2019-12-01 06:09:30 (2.11 MB/s) - ‘glove.6B.zip’ saved [862182613/862182613]\n",
      "\n",
      "Archive:  glove.6B.zip\n",
      "  inflating: glove.6B.50d.txt        \n",
      "  inflating: glove.6B.100d.txt       \n",
      "  inflating: glove.6B.200d.txt       \n",
      "  inflating: glove.6B.300d.txt       \n"
     ]
    }
   ],
   "source": [
    "!wget http://nlp.stanford.edu/data/glove.6B.zip\n",
    "!unzip glove*.zip"
   ]
  },
  {
   "cell_type": "code",
   "execution_count": 0,
   "metadata": {
    "colab": {},
    "colab_type": "code",
    "id": "Vvd8Rs7qDYfn"
   },
   "outputs": [],
   "source": [
    "# Extract word vectors\n",
    "word_embeddings = {}\n",
    "f = open('glove.6B.100d.txt', encoding='utf-8')\n",
    "for line in f:\n",
    "    values = line.split()\n",
    "    word = values[0]\n",
    "    coefs = np.asarray(values[1:], dtype='float32')\n",
    "    word_embeddings[word] = coefs\n",
    "f.close()"
   ]
  },
  {
   "cell_type": "code",
   "execution_count": 0,
   "metadata": {
    "colab": {},
    "colab_type": "code",
    "id": "p5gCmSkxDbbp"
   },
   "outputs": [],
   "source": [
    "# remove punctuations, numbers and special characters\n",
    "clean_sentences = pd.Series(sentences).str.replace(\"[^a-zA-Z]\", \" \")\n",
    "\n",
    "# make alphabets lowercase\n",
    "clean_sentences = [s.lower() for s in clean_sentences]"
   ]
  },
  {
   "cell_type": "code",
   "execution_count": 0,
   "metadata": {
    "colab": {},
    "colab_type": "code",
    "id": "vlr5Wj4mFNrm"
   },
   "outputs": [],
   "source": [
    "# function to remove stopwords\n",
    "def remove_stopwords_sentence(sen):\n",
    "    sen_new = \" \".join([i for i in sen if i not in stop_words])\n",
    "    return sen_new"
   ]
  },
  {
   "cell_type": "code",
   "execution_count": 0,
   "metadata": {
    "colab": {},
    "colab_type": "code",
    "id": "mu5LL4ecFPR-"
   },
   "outputs": [],
   "source": [
    "# remove stopwords from the sentences\n",
    "clean_sentences = [remove_stopwords_sentence(r.split()) for r in clean_sentences]"
   ]
  },
  {
   "cell_type": "code",
   "execution_count": 0,
   "metadata": {
    "colab": {},
    "colab_type": "code",
    "id": "KJ3TgP6kFQXd"
   },
   "outputs": [],
   "source": [
    "sentence_vectors = []\n",
    "for i in clean_sentences:\n",
    "  if len(i) != 0:\n",
    "    v = sum([word_embeddings.get(w, np.zeros((100,))) for w in i.split()])/(len(i.split())+0.001)\n",
    "  else:\n",
    "    v = np.zeros((100,))\n",
    "  sentence_vectors.append(v)"
   ]
  },
  {
   "cell_type": "code",
   "execution_count": 0,
   "metadata": {
    "colab": {},
    "colab_type": "code",
    "id": "vDzarvlgFRP6"
   },
   "outputs": [],
   "source": [
    "# similarity matrix\n",
    "sim_mat = np.zeros([len(sentences), len(sentences)])"
   ]
  },
  {
   "cell_type": "code",
   "execution_count": 0,
   "metadata": {
    "colab": {},
    "colab_type": "code",
    "id": "3W68fC9FFTMR"
   },
   "outputs": [],
   "source": [
    "from sklearn.metrics.pairwise import cosine_similarity\n",
    "for i in range(len(sentences)):\n",
    "  for j in range(len(sentences)):\n",
    "    if i != j:\n",
    "      sim_mat[i][j] = cosine_similarity(sentence_vectors[i].reshape(1,100), sentence_vectors[j].reshape(1,100))[0,0]"
   ]
  },
  {
   "cell_type": "code",
   "execution_count": 0,
   "metadata": {
    "colab": {},
    "colab_type": "code",
    "id": "YcrmxWepFUZ1"
   },
   "outputs": [],
   "source": [
    "import networkx as nx\n",
    "\n",
    "nx_graph = nx.from_numpy_array(sim_mat)\n",
    "scores = nx.pagerank(nx_graph)"
   ]
  },
  {
   "cell_type": "code",
   "execution_count": 0,
   "metadata": {
    "colab": {},
    "colab_type": "code",
    "id": "z38O96p9FXVL"
   },
   "outputs": [],
   "source": [
    "ranked_sentences = sorted(((scores[i],s) for i,s in enumerate(sentences)), reverse=True)"
   ]
  },
  {
   "cell_type": "code",
   "execution_count": 48,
   "metadata": {
    "colab": {
     "base_uri": "https://localhost:8080/",
     "height": 259
    },
    "colab_type": "code",
    "executionInfo": {
     "elapsed": 759389,
     "status": "ok",
     "timestamp": 1575181430373,
     "user": {
      "displayName": "Mohini Agarwal",
      "photoUrl": "https://lh3.googleusercontent.com/a-/AAuE7mB6zKltsv1-M_Rn74g_JXu9dDBZlatLFMLrUXwm=s64",
      "userId": "12450402954614440292"
     },
     "user_tz": 360
    },
    "id": "qm0h2CepFYtw",
    "outputId": "8b90eb4c-2b48-4151-bc69-ae3e1b17f0bd"
   },
   "outputs": [
    {
     "name": "stdout",
     "output_type": "stream",
     "text": [
      "No less than 6 different statements were made by Mr Obama forcefully claiming in 2009 while addressing the American Medical Association:\n",
      "“If you like your doctor, you will be able to keep your doctor, period, If you like your health care plan, you’ll be able to keep your health care plan, period.\n",
      "At long last, after decades of false starts, we must make this our most urgent priority, giving every American health security — health care that can never be taken away, health care that is always there.\n",
      "“I have always found a bit cruel the much-mouthed suggestion that patients should have ‘more skin in the game’ and ‘shop around for cost-effective health care’ in the health care market,” said Uwe E. Reinhardt, a health policy expert and professor at Princeton University, “when patients have so little information easily available on prices and quality to those things.”\n",
      "President Obama’s Affordable Care Act, the health care overhaul law passed in 2010, tries to make some improvements (though the Supreme Court is expected to rule whether all or some of the law is constitutional this month).\n",
      "While a European national health system seemed politically out of the question, pilot models in which employees of a Dallas school system were part of a collective payment system seemed to offer the best model to emulate more broadly in order to bring up hospital service demand as well as mitigate adverse selection of the sickest patients opting into insurance plans.\n",
      "Another recent paper is a major new report from the National Bureau of Economic Research (NBER), which shows that when the poor have medical insurance, they not only find regular doctors and see them more frequently for preventive care, but also end up feeling healthier, less depressed and are better able to maintain financial stability.\n",
      "Why getting sick in America is a really bad ideaMay_30_Health_Care_Rally_NP (641) (Photo credit: seiuhealthcare775nw)\n",
      "One element of living in the United States sickens me to my core — the persistent inequality of access to affordable quality health care, something citizens of virtually every other developed nation take for granted.\n",
      "As the heated debate over health care continues, there has been plenty of talk about how the U.S. system stacks up to that of other countries, and how much American doctors earn compared with M.D.s in other parts of the world.\n",
      "Expanding this program to include everyone regardless of their age would be necessary; signing up for Medicare at the same time one applies for a Social Security number (typically at a very young age) seems simple enough.\n",
      "Expanding this program to include everyone regardless of their age would be necessary; signing up for Medicare at the same time one applies for a Social Security number (typically at a very young age) seems simple enough.\n",
      ")How did we get to the point where the discussion on health care has come down to how much less coverage can be provided and how much tax relief can be granted to already rich people?\n"
     ]
    }
   ],
   "source": [
    "# Extract top 10 sentences as the summary\n",
    "for i in range(10):\n",
    "  print(ranked_sentences[i][1])"
   ]
  },
  {
   "cell_type": "code",
   "execution_count": 0,
   "metadata": {
    "colab": {},
    "colab_type": "code",
    "id": "Zhrw5aq2FZdc"
   },
   "outputs": [],
   "source": []
  }
 ],
 "metadata": {
  "accelerator": "GPU",
  "colab": {
   "collapsed_sections": [],
   "name": "Topic Modelling US_Wordpress_Sachin.ipynb",
   "provenance": [],
   "toc_visible": true
  },
  "kernelspec": {
   "display_name": "Python 3",
   "language": "python",
   "name": "python3"
  },
  "language_info": {
   "codemirror_mode": {
    "name": "ipython",
    "version": 3
   },
   "file_extension": ".py",
   "mimetype": "text/x-python",
   "name": "python",
   "nbconvert_exporter": "python",
   "pygments_lexer": "ipython3",
   "version": "3.7.4"
  }
 },
 "nbformat": 4,
 "nbformat_minor": 1
}
